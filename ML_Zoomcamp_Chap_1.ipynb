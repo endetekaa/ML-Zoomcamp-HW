{
  "cells": [
    {
      "cell_type": "code",
      "execution_count": null,
      "metadata": {
        "colab": {
          "base_uri": "https://localhost:8080/",
          "height": 36
        },
        "id": "TCdZH8h5n8UO",
        "outputId": "1e41e387-f89c-4f22-ba4f-755b18267277"
      },
      "outputs": [
        {
          "data": {
            "application/vnd.google.colaboratory.intrinsic+json": {
              "type": "string"
            },
            "text/plain": [
              "'2.0.3'"
            ]
          },
          "execution_count": 22,
          "metadata": {},
          "output_type": "execute_result"
        }
      ],
      "source": [
        "#Question 1\n",
        "import pandas as pd\n",
        "pd.__version__"
      ]
    },
    {
      "cell_type": "code",
      "execution_count": null,
      "metadata": {
        "colab": {
          "background_save": true
        },
        "id": "BO0kK1RUoNWq"
      },
      "outputs": [],
      "source": [
        "#Question 2\n",
        "from google.colab import drive\n",
        "import pandas as pd\n",
        "df = pd.read_csv('/content/drive/MyDrive/housing.csv') # mount drive first: drive.mount('content/drive')"
      ]
    },
    {
      "cell_type": "code",
      "execution_count": null,
      "metadata": {
        "id": "772RreI1Hksi"
      },
      "outputs": [],
      "source": [
        "#Question 3\n",
        "count_null = df.isnull().sum()\n",
        "print(count_null)\n",
        "#Question 4\n",
        "unique_value = df.nunique()\n",
        "print(unique_value)\n"
      ]
    },
    {
      "cell_type": "code",
      "source": [
        "#Question 5\n",
        "near_bay_df = df[\n",
        "    df['ocean_proximity'] == \"NEAR BAY\"\n",
        "]\n",
        "avg_house_value = near_bay_df.median_house_value.mean()\n",
        "print(avg_house_value)"
      ],
      "metadata": {
        "colab": {
          "base_uri": "https://localhost:8080/"
        },
        "id": "1arwY8Uh7kor",
        "outputId": "b47ca3c1-508c-44e0-acbf-b1c723152b1c"
      },
      "execution_count": 83,
      "outputs": [
        {
          "output_type": "stream",
          "name": "stdout",
          "text": [
            "259212.31179039303\n"
          ]
        }
      ]
    },
    {
      "cell_type": "code",
      "source": [
        "#Question 6\n",
        "avg_total_bedrooms = df.total_bedrooms.mean().round(3)\n",
        "print(avg_total_bedrooms)\n",
        "df.total_bedrooms.fillna(avg_total_bedrooms)\n",
        "new_avg = df.total_bedrooms.mean().round(3)\n",
        "print(new_avg)"
      ],
      "metadata": {
        "colab": {
          "base_uri": "https://localhost:8080/"
        },
        "id": "uYj9475z9efO",
        "outputId": "29d0b950-b1ea-4fed-e3fa-eddd91bbef30"
      },
      "execution_count": 91,
      "outputs": [
        {
          "output_type": "stream",
          "name": "stdout",
          "text": [
            "537.871\n",
            "537.871\n"
          ]
        }
      ]
    },
    {
      "cell_type": "code",
      "execution_count": null,
      "metadata": {
        "id": "r5d8cUponD5M"
      },
      "outputs": [],
      "source": [
        "#Question 7\n",
        "import numpy as np\n",
        "\n",
        "island_df = df[\n",
        "    df['ocean_proximity'] == \"ISLAND\"\n",
        "]\n",
        "chosen_col_df = island_df[['housing_median_age','total_rooms','total_bedrooms']]\n",
        "X = chosen_col_df.values\n",
        "XTX = np.matrix.transpose(X)\n",
        "matrix_multiplication = XTX.dot(X)\n",
        "matrix_inv = np.linalg.inv(matrix_multiplication)\n",
        "Y = np.array([950, 1300, 800, 1000, 1300])\n",
        "Z = matrix_inv.dot(XTX)\n",
        "W = Z.dot(Y)\n",
        "print(W)"
      ]
    }
  ],
  "metadata": {
    "colab": {
      "provenance": []
    },
    "kernelspec": {
      "display_name": "Python 3",
      "name": "python3"
    },
    "language_info": {
      "name": "python"
    }
  },
  "nbformat": 4,
  "nbformat_minor": 0
}